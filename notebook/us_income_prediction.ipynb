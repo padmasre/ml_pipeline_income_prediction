{
  "cells": [
    {
      "cell_type": "markdown",
      "metadata": {
        "id": "view-in-github",
        "colab_type": "text"
      },
      "source": [
        "<a href=\"https://colab.research.google.com/github/padmasre/ml_pipeline_income_prediction/blob/main/notebook/us_income_prediction.ipynb\" target=\"_parent\"><img src=\"https://colab.research.google.com/assets/colab-badge.svg\" alt=\"Open In Colab\"/></a>"
      ]
    },
    {
      "cell_type": "markdown",
      "source": [
        "## US Adult Income Prediction\n",
        "\n",
        "Predict if an US Adult is earning more than $50K or not\n",
        "\n",
        "Dataset:\n",
        "* Original dataset: http://archive.ics.uci.edu/dataset/2/adult\n",
        "\n",
        "    Extraction was done by Barry Becker from the 1994 Census database.  A set of reasonably clean records was extracted using the following conditions: ((AAGE>16) && (AGI>100) && (AFNLWGT>1)&& (HRSWK>0))\n",
        "\n",
        "* Dataset that is used for this project: [a9a](https://www.csie.ntu.edu.tw/~cjlin/libsvmtools/datasets/binary.html#:~:text=t%20(testing)-,a9a,-Source%3A%20UCI)\n",
        "\n",
        "    LIBSVM Data. The original Adult data set has 14 features, among which six are continuous and eight are categorical. In this data set, continuous features are discretized into quantiles, and each quantile is represented by a binary feature. Also, a categorical feature with m categories is converted to m binary features. Details on how each feature is converted can be found in the beginning of each file from [this](http://research.microsoft.com/en-us/um/people/jplatt/adult.zip) [JP98a](https://www.csie.ntu.edu.tw/~cjlin/libsvmtools/datasets/ref.html#JP98a)\n"
      ],
      "metadata": {
        "id": "7ZC3xh-ziTGk"
      }
    },
    {
      "cell_type": "code",
      "source": [
        "from sklearn.preprocessing import StandardScaler\n",
        "from sklearn.datasets import load_svmlight_file"
      ],
      "metadata": {
        "id": "pvE4JUIrjSPP"
      },
      "execution_count": 1,
      "outputs": []
    },
    {
      "cell_type": "code",
      "source": [],
      "metadata": {
        "id": "DneDNgfKjj4I"
      },
      "execution_count": null,
      "outputs": []
    }
  ],
  "metadata": {
    "colab": {
      "name": "Welcome To Colaboratory",
      "provenance": [],
      "toc_visible": true,
      "include_colab_link": true
    },
    "kernelspec": {
      "display_name": "Python 3",
      "name": "python3"
    }
  },
  "nbformat": 4,
  "nbformat_minor": 0
}